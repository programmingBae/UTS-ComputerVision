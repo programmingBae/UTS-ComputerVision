{
  "nbformat": 4,
  "nbformat_minor": 0,
  "metadata": {
    "colab": {
      "provenance": [],
      "collapsed_sections": [],
      "include_colab_link": true
    },
    "kernelspec": {
      "name": "python3",
      "display_name": "Python 3"
    },
    "language_info": {
      "name": "python"
    },
    "accelerator": "GPU",
    "gpuClass": "standard"
  },
  "cells": [
    {
      "cell_type": "markdown",
      "metadata": {
        "id": "view-in-github",
        "colab_type": "text"
      },
      "source": [
        "<a href=\"https://colab.research.google.com/github/programmingBae/UTS-ComputerVision/blob/main/UTS_CV2.ipynb\" target=\"_parent\"><img src=\"https://colab.research.google.com/assets/colab-badge.svg\" alt=\"Open In Colab\"/></a>"
      ]
    },
    {
      "cell_type": "markdown",
      "source": [
        "# Load the Data"
      ],
      "metadata": {
        "id": "bTmug0rOOE14"
      }
    },
    {
      "cell_type": "code",
      "execution_count": 1,
      "metadata": {
        "id": "oklgLxvUm6V-"
      },
      "outputs": [],
      "source": [
        "file_name = \"sample_data/train_data.zip\""
      ]
    },
    {
      "cell_type": "code",
      "source": [
        "import zipfile\n",
        "#import dependencies\n",
        "import keras\n",
        "from keras.models import Sequential\n",
        "from keras.utils import np_utils\n",
        "from keras.preprocessing.image import ImageDataGenerator\n",
        "from keras.layers import Dense, Activation, Flatten, Dropout, BatchNormalization\n",
        "from keras.layers import Conv2D, MaxPooling2D\n",
        "from keras.datasets import cifar10\n",
        "from keras import regularizers, optimizers\n",
        "import numpy as np\n",
        "from matplotlib import pyplot as plt"
      ],
      "metadata": {
        "id": "DaiOFl6ToAfm"
      },
      "execution_count": 2,
      "outputs": []
    },
    {
      "cell_type": "code",
      "source": [
        "with zipfile.ZipFile(file_name, \"r\") as zip:\n",
        "  zip.extractall()\n",
        "  print(\"Extract Done\")"
      ],
      "metadata": {
        "colab": {
          "base_uri": "https://localhost:8080/"
        },
        "id": "lPoaWU61oBQZ",
        "outputId": "218f328b-81ba-44de-a00f-191742f63e69"
      },
      "execution_count": 3,
      "outputs": [
        {
          "output_type": "stream",
          "name": "stdout",
          "text": [
            "Extract Done\n"
          ]
        }
      ]
    },
    {
      "cell_type": "markdown",
      "source": [
        " ## Use ImageData Generator to split the dataset into train&validation set. Also to normalize the data"
      ],
      "metadata": {
        "id": "xyRBOx5vOHFj"
      }
    },
    {
      "cell_type": "code",
      "source": [
        "from keras.preprocessing.image import ImageDataGenerator\n",
        "train_datagen = ImageDataGenerator(\n",
        "    rescale=1. / 255,\n",
        "    # width_shift_range=0.2,\n",
        "    # height_shift_range=0.2,\n",
        "    # shear_range=0.2,\n",
        "    validation_split=0.1\n",
        "    )"
      ],
      "metadata": {
        "id": "kzB_7StEoLb3"
      },
      "execution_count": 161,
      "outputs": []
    },
    {
      "cell_type": "code",
      "source": [
        "train_generator = train_datagen.flow_from_directory('train_data/train/', \n",
        "                                                    class_mode ='categorical', \n",
        "                                                    batch_size=5, target_size=(28, 28), \n",
        "                                                    color_mode =\"grayscale\", subset=\"training\") \n",
        "train_generator.class_indices\n",
        "validation_generator = train_datagen.flow_from_directory('train_data/train/', \n",
        "                                                         class_mode ='categorical', \n",
        "                                                         batch_size=5, target_size=(28, 28), \n",
        "                                                         color_mode =\"grayscale\", subset=\"validation\") \n",
        "\n"
      ],
      "metadata": {
        "colab": {
          "base_uri": "https://localhost:8080/"
        },
        "id": "lbyJJ9CJoLGd",
        "outputId": "f7939e3c-cc42-4a7a-c3a5-daa1890521e7"
      },
      "execution_count": 162,
      "outputs": [
        {
          "output_type": "stream",
          "name": "stdout",
          "text": [
            "Found 576 images belonging to 4 classes.\n",
            "Found 64 images belonging to 4 classes.\n"
          ]
        }
      ]
    },
    {
      "cell_type": "markdown",
      "source": [
        "# Design the model"
      ],
      "metadata": {
        "id": "yh1-Ejd6OT8x"
      }
    },
    {
      "cell_type": "code",
      "source": [
        "import tensorflow as tf\n",
        "model = tf.keras.models.Sequential([\n",
        "    # This is the first convolution\n",
        "    tf.keras.layers.Conv2D(4, (3,3), activation='relu', input_shape=(28,28, 1)),\n",
        "    tf.keras.layers.Conv2D(4, (3,3), activation='relu'),\n",
        "    tf.keras.layers.MaxPooling2D(2,2),\n",
        "    tf.keras.layers.Dropout(0.1),\n",
        "    # The second convolution\n",
        "    tf.keras.layers.Conv2D(8, (3,3), activation='relu'),\n",
        "    tf.keras.layers.Conv2D(8, (3,3), activation='relu'),\n",
        "     \n",
        "    tf.keras.layers.MaxPooling2D(2,2),\n",
        "    tf.keras.layers.Dropout(0.2),\n",
        "    # Flatten the results to feed into a DNN\n",
        "    tf.keras.layers.Flatten(),\n",
        "    tf.keras.layers.Dense(16, activation='relu'),\n",
        "    tf.keras.layers.Dropout(0.1),\n",
        "    tf.keras.layers.Dense(4, activation='softmax')\n",
        "    ])"
      ],
      "metadata": {
        "id": "Q_kYdmBIc24c"
      },
      "execution_count": 166,
      "outputs": []
    },
    {
      "cell_type": "markdown",
      "source": [
        "# Compile the model"
      ],
      "metadata": {
        "id": "okFIYUVgOXDz"
      }
    },
    {
      "cell_type": "code",
      "source": [
        "model.compile(optimizer = \"adam\",\n",
        "                loss = \"categorical_crossentropy\",\n",
        "                metrics=[\"accuracy\"])"
      ],
      "metadata": {
        "id": "pyIgKEU5uDJ9"
      },
      "execution_count": 167,
      "outputs": []
    },
    {
      "cell_type": "code",
      "source": [
        "callback = tf.keras.callbacks.EarlyStopping(monitor='accuracy', patience=10)"
      ],
      "metadata": {
        "id": "QpH8LIjYmG9e"
      },
      "execution_count": 147,
      "outputs": []
    },
    {
      "cell_type": "markdown",
      "source": [
        "# Train"
      ],
      "metadata": {
        "id": "Sx47suV8OY_-"
      }
    },
    {
      "cell_type": "code",
      "source": [
        "# Train your model\n",
        "history = model.fit(train_generator,\n",
        "                    epochs=50,\n",
        "                    validation_data=validation_generator,\n",
        "                    callbacks=[callback])\n"
      ],
      "metadata": {
        "colab": {
          "base_uri": "https://localhost:8080/"
        },
        "id": "yX24ZIHSt4Ow",
        "outputId": "3996e711-65e8-46fc-f577-f969036c900a"
      },
      "execution_count": 168,
      "outputs": [
        {
          "output_type": "stream",
          "name": "stdout",
          "text": [
            "Epoch 1/50\n",
            "116/116 [==============================] - 2s 9ms/step - loss: 1.3883 - accuracy: 0.2188 - val_loss: 1.3862 - val_accuracy: 0.2031\n",
            "Epoch 2/50\n",
            "116/116 [==============================] - 1s 7ms/step - loss: 1.3863 - accuracy: 0.2778 - val_loss: 1.3867 - val_accuracy: 0.2500\n",
            "Epoch 3/50\n",
            "116/116 [==============================] - 1s 7ms/step - loss: 1.3883 - accuracy: 0.2431 - val_loss: 1.3862 - val_accuracy: 0.2656\n",
            "Epoch 4/50\n",
            "116/116 [==============================] - 1s 7ms/step - loss: 1.3848 - accuracy: 0.2795 - val_loss: 1.3857 - val_accuracy: 0.2812\n",
            "Epoch 5/50\n",
            "116/116 [==============================] - 1s 7ms/step - loss: 1.3895 - accuracy: 0.2396 - val_loss: 1.3862 - val_accuracy: 0.2500\n",
            "Epoch 6/50\n",
            "116/116 [==============================] - 1s 7ms/step - loss: 1.3861 - accuracy: 0.2448 - val_loss: 1.3861 - val_accuracy: 0.2344\n",
            "Epoch 7/50\n",
            "116/116 [==============================] - 1s 7ms/step - loss: 1.3869 - accuracy: 0.2535 - val_loss: 1.3863 - val_accuracy: 0.2344\n",
            "Epoch 8/50\n",
            "116/116 [==============================] - 1s 7ms/step - loss: 1.3857 - accuracy: 0.2622 - val_loss: 1.3866 - val_accuracy: 0.2188\n",
            "Epoch 9/50\n",
            "116/116 [==============================] - 1s 7ms/step - loss: 1.3870 - accuracy: 0.2378 - val_loss: 1.3862 - val_accuracy: 0.2500\n",
            "Epoch 10/50\n",
            "116/116 [==============================] - 1s 7ms/step - loss: 1.3851 - accuracy: 0.2535 - val_loss: 1.3843 - val_accuracy: 0.2500\n",
            "Epoch 11/50\n",
            "116/116 [==============================] - 1s 7ms/step - loss: 1.3839 - accuracy: 0.2674 - val_loss: 1.3846 - val_accuracy: 0.2656\n",
            "Epoch 12/50\n",
            "116/116 [==============================] - 1s 7ms/step - loss: 1.3836 - accuracy: 0.2743 - val_loss: 1.3843 - val_accuracy: 0.2656\n",
            "Epoch 13/50\n",
            "116/116 [==============================] - 1s 7ms/step - loss: 1.3810 - accuracy: 0.2882 - val_loss: 1.3870 - val_accuracy: 0.3281\n",
            "Epoch 14/50\n",
            "116/116 [==============================] - 1s 7ms/step - loss: 1.3770 - accuracy: 0.2951 - val_loss: 1.3833 - val_accuracy: 0.3750\n",
            "Epoch 15/50\n",
            "116/116 [==============================] - 1s 7ms/step - loss: 1.3739 - accuracy: 0.2760 - val_loss: 1.3893 - val_accuracy: 0.2812\n",
            "Epoch 16/50\n",
            "116/116 [==============================] - 1s 7ms/step - loss: 1.3732 - accuracy: 0.3177 - val_loss: 1.3822 - val_accuracy: 0.2969\n",
            "Epoch 17/50\n",
            "116/116 [==============================] - 1s 7ms/step - loss: 1.3557 - accuracy: 0.3490 - val_loss: 1.3807 - val_accuracy: 0.2656\n",
            "Epoch 18/50\n",
            "116/116 [==============================] - 1s 7ms/step - loss: 1.3563 - accuracy: 0.3125 - val_loss: 1.3900 - val_accuracy: 0.2500\n",
            "Epoch 19/50\n",
            "116/116 [==============================] - 1s 7ms/step - loss: 1.3399 - accuracy: 0.3594 - val_loss: 1.3849 - val_accuracy: 0.2656\n",
            "Epoch 20/50\n",
            "116/116 [==============================] - 1s 7ms/step - loss: 1.3405 - accuracy: 0.3611 - val_loss: 1.3769 - val_accuracy: 0.3281\n",
            "Epoch 21/50\n",
            "116/116 [==============================] - 1s 7ms/step - loss: 1.3391 - accuracy: 0.3385 - val_loss: 1.3877 - val_accuracy: 0.2500\n",
            "Epoch 22/50\n",
            "116/116 [==============================] - 1s 7ms/step - loss: 1.3289 - accuracy: 0.3611 - val_loss: 1.3822 - val_accuracy: 0.2969\n",
            "Epoch 23/50\n",
            "116/116 [==============================] - 1s 7ms/step - loss: 1.3234 - accuracy: 0.3646 - val_loss: 1.3843 - val_accuracy: 0.2812\n",
            "Epoch 24/50\n",
            "116/116 [==============================] - 1s 7ms/step - loss: 1.3281 - accuracy: 0.3472 - val_loss: 1.3728 - val_accuracy: 0.2812\n",
            "Epoch 25/50\n",
            "116/116 [==============================] - 1s 7ms/step - loss: 1.2921 - accuracy: 0.3663 - val_loss: 1.3923 - val_accuracy: 0.2656\n",
            "Epoch 26/50\n",
            "116/116 [==============================] - 1s 7ms/step - loss: 1.3047 - accuracy: 0.3854 - val_loss: 1.3857 - val_accuracy: 0.3438\n",
            "Epoch 27/50\n",
            "116/116 [==============================] - 1s 7ms/step - loss: 1.2858 - accuracy: 0.3924 - val_loss: 1.4043 - val_accuracy: 0.2656\n",
            "Epoch 28/50\n",
            "116/116 [==============================] - 1s 7ms/step - loss: 1.2819 - accuracy: 0.3993 - val_loss: 1.3839 - val_accuracy: 0.2812\n",
            "Epoch 29/50\n",
            "116/116 [==============================] - 1s 7ms/step - loss: 1.2779 - accuracy: 0.3993 - val_loss: 1.4050 - val_accuracy: 0.2969\n",
            "Epoch 30/50\n",
            "116/116 [==============================] - 1s 7ms/step - loss: 1.2947 - accuracy: 0.3785 - val_loss: 1.4044 - val_accuracy: 0.2812\n",
            "Epoch 31/50\n",
            "116/116 [==============================] - 1s 7ms/step - loss: 1.2591 - accuracy: 0.4010 - val_loss: 1.4129 - val_accuracy: 0.2500\n",
            "Epoch 32/50\n",
            "116/116 [==============================] - 1s 7ms/step - loss: 1.2401 - accuracy: 0.4097 - val_loss: 1.4136 - val_accuracy: 0.3125\n",
            "Epoch 33/50\n",
            "116/116 [==============================] - 1s 7ms/step - loss: 1.2508 - accuracy: 0.4375 - val_loss: 1.4227 - val_accuracy: 0.2812\n",
            "Epoch 34/50\n",
            "116/116 [==============================] - 1s 7ms/step - loss: 1.2266 - accuracy: 0.4201 - val_loss: 1.4283 - val_accuracy: 0.2969\n",
            "Epoch 35/50\n",
            "116/116 [==============================] - 1s 7ms/step - loss: 1.2450 - accuracy: 0.4184 - val_loss: 1.4073 - val_accuracy: 0.2969\n",
            "Epoch 36/50\n",
            "116/116 [==============================] - 1s 7ms/step - loss: 1.2287 - accuracy: 0.4358 - val_loss: 1.4021 - val_accuracy: 0.3281\n",
            "Epoch 37/50\n",
            "116/116 [==============================] - 1s 7ms/step - loss: 1.2291 - accuracy: 0.4358 - val_loss: 1.4007 - val_accuracy: 0.3281\n",
            "Epoch 38/50\n",
            "116/116 [==============================] - 1s 7ms/step - loss: 1.2094 - accuracy: 0.4601 - val_loss: 1.4235 - val_accuracy: 0.3438\n",
            "Epoch 39/50\n",
            "116/116 [==============================] - 1s 7ms/step - loss: 1.1782 - accuracy: 0.4705 - val_loss: 1.4075 - val_accuracy: 0.3594\n",
            "Epoch 40/50\n",
            "116/116 [==============================] - 1s 7ms/step - loss: 1.1993 - accuracy: 0.4549 - val_loss: 1.4131 - val_accuracy: 0.3281\n",
            "Epoch 41/50\n",
            "116/116 [==============================] - 1s 7ms/step - loss: 1.1863 - accuracy: 0.4722 - val_loss: 1.4164 - val_accuracy: 0.3594\n",
            "Epoch 42/50\n",
            "116/116 [==============================] - 1s 7ms/step - loss: 1.1828 - accuracy: 0.4531 - val_loss: 1.4219 - val_accuracy: 0.3750\n",
            "Epoch 43/50\n",
            "116/116 [==============================] - 1s 7ms/step - loss: 1.1980 - accuracy: 0.4653 - val_loss: 1.4079 - val_accuracy: 0.3125\n",
            "Epoch 44/50\n",
            "116/116 [==============================] - 1s 7ms/step - loss: 1.1610 - accuracy: 0.4861 - val_loss: 1.4204 - val_accuracy: 0.3438\n",
            "Epoch 45/50\n",
            "116/116 [==============================] - 1s 7ms/step - loss: 1.2100 - accuracy: 0.4670 - val_loss: 1.4055 - val_accuracy: 0.3594\n",
            "Epoch 46/50\n",
            "116/116 [==============================] - 1s 7ms/step - loss: 1.1968 - accuracy: 0.4514 - val_loss: 1.4010 - val_accuracy: 0.3125\n",
            "Epoch 47/50\n",
            "116/116 [==============================] - 1s 7ms/step - loss: 1.1477 - accuracy: 0.4965 - val_loss: 1.3881 - val_accuracy: 0.3594\n",
            "Epoch 48/50\n",
            "116/116 [==============================] - 1s 7ms/step - loss: 1.1315 - accuracy: 0.5139 - val_loss: 1.4218 - val_accuracy: 0.3906\n",
            "Epoch 49/50\n",
            "116/116 [==============================] - 1s 8ms/step - loss: 1.1605 - accuracy: 0.4983 - val_loss: 1.4120 - val_accuracy: 0.4219\n",
            "Epoch 50/50\n",
            "116/116 [==============================] - 1s 7ms/step - loss: 1.1261 - accuracy: 0.5156 - val_loss: 1.3988 - val_accuracy: 0.3750\n"
          ]
        }
      ]
    },
    {
      "cell_type": "markdown",
      "source": [
        "# Evaluate"
      ],
      "metadata": {
        "id": "GX5SkuSGOa_e"
      }
    },
    {
      "cell_type": "code",
      "source": [
        "train_acc = history.model.evaluate(train_generator)\n",
        "val_acc = history.model.evaluate(validation_generator)"
      ],
      "metadata": {
        "colab": {
          "base_uri": "https://localhost:8080/"
        },
        "id": "e46nZ_56P2jX",
        "outputId": "bf629796-374c-473e-d8b6-827a33b4d691"
      },
      "execution_count": 169,
      "outputs": [
        {
          "output_type": "stream",
          "name": "stdout",
          "text": [
            "116/116 [==============================] - 1s 6ms/step - loss: 0.9871 - accuracy: 0.6441\n",
            "13/13 [==============================] - 0s 6ms/step - loss: 1.3988 - accuracy: 0.3750\n"
          ]
        }
      ]
    },
    {
      "cell_type": "code",
      "source": [
        "acc = history.history['accuracy']\n",
        "val_acc = history.history['val_accuracy']\n",
        "loss = history.history['loss']\n",
        "val_loss = history.history['val_loss']\n",
        "\n",
        "epochs = range(len(acc))\n",
        "\n",
        "plt.plot(epochs, acc, 'r', label='Training accuracy')\n",
        "plt.plot(epochs, val_acc, 'b', label='Validation accuracy')\n",
        "plt.title('Training and validation accuracy')\n",
        "plt.legend()\n",
        "plt.figure()\n",
        "\n",
        "plt.plot(epochs, loss, 'r', label='Training Loss')\n",
        "plt.plot(epochs, val_loss, 'b', label='Validation Loss')\n",
        "plt.title('Training and validation loss')\n",
        "plt.legend()\n",
        "\n",
        "plt.show()"
      ],
      "metadata": {
        "id": "xgqin2bTxUnJ",
        "colab": {
          "base_uri": "https://localhost:8080/",
          "height": 545
        },
        "outputId": "1c0bb587-d041-42ca-af43-a45ceb5717ac"
      },
      "execution_count": 170,
      "outputs": [
        {
          "output_type": "display_data",
          "data": {
            "text/plain": [
              "<Figure size 432x288 with 1 Axes>"
            ],
            "image/png": "[encoded data removed]"
          },
          "metadata": {
            "needs_background": "light"
          }
        },
        {
          "output_type": "display_data",
          "data": {
            "text/plain": [
              "<Figure size 432x288 with 1 Axes>"
            ],
            "image/png": "[encoded data removed]"
          },
          "metadata": {
            "needs_background": "light"
          }
        }
      ]
    }
  ]
}