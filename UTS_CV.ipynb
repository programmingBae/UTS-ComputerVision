{
  "nbformat": 4,
  "nbformat_minor": 0,
  "metadata": {
    "colab": {
      "provenance": [],
      "collapsed_sections": [],
      "include_colab_link": true
    },
    "kernelspec": {
      "name": "python3",
      "display_name": "Python 3"
    },
    "language_info": {
      "name": "python"
    },
    "accelerator": "GPU",
    "gpuClass": "standard"
  },
  "cells": [
    {
      "cell_type": "markdown",
      "metadata": {
        "id": "view-in-github",
        "colab_type": "text"
      },
      "source": [
        "<a href=\"https://colab.research.google.com/github/programmingBae/UTS-ComputerVision/blob/main/UTS_CV.ipynb\" target=\"_parent\"><img src=\"https://colab.research.google.com/assets/colab-badge.svg\" alt=\"Open In Colab\"/></a>"
      ]
    },
    {
      "cell_type": "code",
      "execution_count": 1,
      "metadata": {
        "id": "oklgLxvUm6V-"
      },
      "outputs": [],
      "source": [
        "file_name = \"sample_data/train_data.zip\""
      ]
    },
    {
      "cell_type": "code",
      "source": [
        "import zipfile\n",
        "#import dependencies\n",
        "import keras\n",
        "from keras.models import Sequential\n",
        "from keras.utils import np_utils\n",
        "from keras.preprocessing.image import ImageDataGenerator\n",
        "from keras.layers import Dense, Activation, Flatten, Dropout, BatchNormalization\n",
        "from keras.layers import Conv2D, MaxPooling2D\n",
        "from keras.datasets import cifar10\n",
        "from keras import regularizers, optimizers\n",
        "import numpy as np\n",
        "from matplotlib import pyplot as plt"
      ],
      "metadata": {
        "id": "DaiOFl6ToAfm"
      },
      "execution_count": 2,
      "outputs": []
    },
    {
      "cell_type": "code",
      "source": [
        "with zipfile.ZipFile(file_name, \"r\") as zip:\n",
        "  zip.extractall()\n",
        "  print(\"Extract Done\")"
      ],
      "metadata": {
        "colab": {
          "base_uri": "https://localhost:8080/"
        },
        "id": "lPoaWU61oBQZ",
        "outputId": "218f328b-81ba-44de-a00f-191742f63e69"
      },
      "execution_count": 3,
      "outputs": [
        {
          "output_type": "stream",
          "name": "stdout",
          "text": [
            "Extract Done\n"
          ]
        }
      ]
    },
    {
      "cell_type": "code",
      "source": [
        "from keras.preprocessing.image import ImageDataGenerator\n",
        "train_datagen = ImageDataGenerator(\n",
        "    rescale=1. / 255,\n",
        "    # width_shift_range=0.2,\n",
        "    # height_shift_range=0.2,\n",
        "    # shear_range=0.2,\n",
        "    validation_split=0.1\n",
        "    )"
      ],
      "metadata": {
        "id": "kzB_7StEoLb3"
      },
      "execution_count": 56,
      "outputs": []
    },
    {
      "cell_type": "code",
      "source": [
        "train_generator = train_datagen.flow_from_directory('train_data/train/', class_mode ='categorical', batch_size=5, target_size=(28, 28), color_mode =\"grayscale\", subset=\"training\") \n",
        "train_generator.class_indices\n",
        "validation_generator = train_datagen.flow_from_directory('train_data/train/', class_mode ='categorical', batch_size=5, target_size=(28, 28), color_mode =\"grayscale\", subset=\"validation\") \n",
        "\n"
      ],
      "metadata": {
        "colab": {
          "base_uri": "https://localhost:8080/"
        },
        "id": "lbyJJ9CJoLGd",
        "outputId": "a4b04794-0940-491c-f885-c0f0e9672089"
      },
      "execution_count": 57,
      "outputs": [
        {
          "output_type": "stream",
          "name": "stdout",
          "text": [
            "Found 576 images belonging to 4 classes.\n",
            "Found 64 images belonging to 4 classes.\n"
          ]
        }
      ]
    },
    {
      "cell_type": "code",
      "source": [
        "model = Sequential() \n",
        "\n",
        "# block #1\n",
        "model.add(Conv2D(filters=64, kernel_size=(3,3), strides=(1,1), \n",
        "activation='relu', padding='same', input_shape=(28,28, 3)))\n",
        "model.add(Conv2D(filters=64, kernel_size=(3,3), strides=(1,1), \n",
        "activation='relu', padding='same'))\n",
        "model.add(MaxPooling2D((2,2), strides=(2,2)))\n",
        "# # block #2\n",
        "model.add(Conv2D(filters=128, kernel_size=(3,3), strides=(1,1), \n",
        "activation='relu', padding='same'))\n",
        "model.add(Conv2D(filters=128, kernel_size=(3,3), strides=(1,1), \n",
        "activation='relu', padding='same'))\n",
        "model.add(MaxPooling2D((2,2), strides=(2,2)))\n",
        "# # block #3\n",
        "model.add(Conv2D(filters=256, kernel_size=(3,3), strides=(1,1), \n",
        "activation='relu', padding='same'))\n",
        "model.add(Conv2D(filters=256, kernel_size=(3,3), strides=(1,1), \n",
        "activation='relu', padding='same'))\n",
        "model.add(Conv2D(filters=256, kernel_size=(3,3), strides=(1,1), \n",
        "activation='relu', padding='same'))\n",
        "model.add(MaxPooling2D((2,2), strides=(2,2)))\n",
        "# # block #4\n",
        "model.add(Conv2D(filters=512, kernel_size=(3,3), strides=(1,1), \n",
        "activation='relu', padding='same'))\n",
        "model.add(Conv2D(filters=512, kernel_size=(3,3), strides=(1,1), \n",
        "activation='relu', padding='same'))\n",
        "model.add(Conv2D(filters=512, kernel_size=(3,3), strides=(1,1), \n",
        "activation='relu', padding='same'))\n",
        "model.add(MaxPooling2D((2,2), strides=(2,2)))\n",
        "\n",
        "# block #6 (classifier)\n",
        "model.add(Flatten())\n",
        "model.add(Dense(512, activation='relu'))\n",
        "model.add(Dropout(0.5))\n",
        "model.add(Dense(512, activation='relu'))\n",
        "model.add(Dropout(0.5))\n",
        "model.add(Dense(4, activation='softmax'))"
      ],
      "metadata": {
        "id": "LeSrReTetRQY"
      },
      "execution_count": null,
      "outputs": []
    },
    {
      "cell_type": "code",
      "source": [
        "import tensorflow as tf\n",
        "model = tf.keras.models.Sequential([\n",
        "    # This is the first convolution\n",
        "    tf.keras.layers.Conv2D(4, (3,3), activation='relu', input_shape=(28,28, 1)),\n",
        "    tf.keras.layers.Conv2D(4, (3,3), activation='relu'),\n",
        "    tf.keras.layers.MaxPooling2D(2,2),\n",
        "    tf.keras.layers.Dropout(0.1),\n",
        "    # The second convolution\n",
        "    tf.keras.layers.Conv2D(8, (3,3), activation='relu'),\n",
        "    tf.keras.layers.Conv2D(8, (3,3), activation='relu'),\n",
        "    tf.keras.layers.MaxPooling2D(2,2),\n",
        "    tf.keras.layers.Dropout(0.1),\n",
        "    # Flatten the results to feed into a DNN\n",
        "    tf.keras.layers.Flatten(),\n",
        "    tf.keras.layers.Dense(16, activation='relu'),\n",
        "    tf.keras.layers.Dropout(0.1),\n",
        "    tf.keras.layers.Dense(4, activation='softmax')\n",
        "    ])"
      ],
      "metadata": {
        "id": "Q_kYdmBIc24c"
      },
      "execution_count": 107,
      "outputs": []
    },
    {
      "cell_type": "code",
      "source": [
        "model.compile(optimizer = \"adam\",\n",
        "                loss = \"categorical_crossentropy\",\n",
        "                metrics=[\"accuracy\"])"
      ],
      "metadata": {
        "id": "pyIgKEU5uDJ9"
      },
      "execution_count": 108,
      "outputs": []
    },
    {
      "cell_type": "code",
      "source": [
        "callback = tf.keras.callbacks.EarlyStopping(monitor='accuracy', patience=10)"
      ],
      "metadata": {
        "id": "QpH8LIjYmG9e"
      },
      "execution_count": 105,
      "outputs": []
    },
    {
      "cell_type": "code",
      "source": [
        "# Train your model\n",
        "history = model.fit(train_generator,\n",
        "                    epochs=50,\n",
        "                    validation_data=validation_generator,\n",
        "                    callbacks=[callback])\n"
      ],
      "metadata": {
        "colab": {
          "base_uri": "https://localhost:8080/"
        },
        "id": "yX24ZIHSt4Ow",
        "outputId": "bb7caa4d-09fe-4744-af7f-5e0ba49506d8"
      },
      "execution_count": 109,
      "outputs": [
        {
          "output_type": "stream",
          "name": "stdout",
          "text": [
            "Epoch 1/50\n",
            "116/116 [==============================] - 2s 9ms/step - loss: 1.3910 - accuracy: 0.2240 - val_loss: 1.3857 - val_accuracy: 0.2969\n",
            "Epoch 2/50\n",
            "116/116 [==============================] - 1s 7ms/step - loss: 1.3865 - accuracy: 0.2431 - val_loss: 1.3854 - val_accuracy: 0.2656\n",
            "Epoch 3/50\n",
            "116/116 [==============================] - 1s 7ms/step - loss: 1.3877 - accuracy: 0.2448 - val_loss: 1.3854 - val_accuracy: 0.2656\n",
            "Epoch 4/50\n",
            "116/116 [==============================] - 1s 7ms/step - loss: 1.3858 - accuracy: 0.2674 - val_loss: 1.3840 - val_accuracy: 0.2500\n",
            "Epoch 5/50\n",
            "116/116 [==============================] - 1s 7ms/step - loss: 1.3861 - accuracy: 0.2361 - val_loss: 1.3835 - val_accuracy: 0.2500\n",
            "Epoch 6/50\n",
            "116/116 [==============================] - 1s 7ms/step - loss: 1.3863 - accuracy: 0.2552 - val_loss: 1.3815 - val_accuracy: 0.3594\n",
            "Epoch 7/50\n",
            "116/116 [==============================] - 1s 7ms/step - loss: 1.3870 - accuracy: 0.2396 - val_loss: 1.3844 - val_accuracy: 0.2500\n",
            "Epoch 8/50\n",
            "116/116 [==============================] - 1s 10ms/step - loss: 1.3849 - accuracy: 0.3056 - val_loss: 1.3808 - val_accuracy: 0.2969\n",
            "Epoch 9/50\n",
            "116/116 [==============================] - 1s 10ms/step - loss: 1.3835 - accuracy: 0.2865 - val_loss: 1.3778 - val_accuracy: 0.2969\n",
            "Epoch 10/50\n",
            "116/116 [==============================] - 1s 7ms/step - loss: 1.3831 - accuracy: 0.2569 - val_loss: 1.3762 - val_accuracy: 0.3438\n",
            "Epoch 11/50\n",
            "116/116 [==============================] - 1s 7ms/step - loss: 1.3785 - accuracy: 0.3177 - val_loss: 1.3707 - val_accuracy: 0.2969\n",
            "Epoch 12/50\n",
            "116/116 [==============================] - 1s 7ms/step - loss: 1.3787 - accuracy: 0.2847 - val_loss: 1.3687 - val_accuracy: 0.3125\n",
            "Epoch 13/50\n",
            "116/116 [==============================] - 1s 7ms/step - loss: 1.3789 - accuracy: 0.3003 - val_loss: 1.3649 - val_accuracy: 0.2812\n",
            "Epoch 14/50\n",
            "116/116 [==============================] - 1s 7ms/step - loss: 1.3695 - accuracy: 0.3073 - val_loss: 1.3559 - val_accuracy: 0.3125\n",
            "Epoch 15/50\n",
            "116/116 [==============================] - 1s 7ms/step - loss: 1.3618 - accuracy: 0.2934 - val_loss: 1.3537 - val_accuracy: 0.3594\n",
            "Epoch 16/50\n",
            "116/116 [==============================] - 1s 7ms/step - loss: 1.3637 - accuracy: 0.3264 - val_loss: 1.3521 - val_accuracy: 0.3750\n",
            "Epoch 17/50\n",
            "116/116 [==============================] - 1s 7ms/step - loss: 1.3650 - accuracy: 0.2969 - val_loss: 1.3490 - val_accuracy: 0.4062\n",
            "Epoch 18/50\n",
            "116/116 [==============================] - 1s 7ms/step - loss: 1.3694 - accuracy: 0.3229 - val_loss: 1.3517 - val_accuracy: 0.3125\n",
            "Epoch 19/50\n",
            "116/116 [==============================] - 1s 7ms/step - loss: 1.3491 - accuracy: 0.3264 - val_loss: 1.3492 - val_accuracy: 0.3438\n",
            "Epoch 20/50\n",
            "116/116 [==============================] - 1s 7ms/step - loss: 1.3531 - accuracy: 0.3316 - val_loss: 1.3395 - val_accuracy: 0.3281\n",
            "Epoch 21/50\n",
            "116/116 [==============================] - 1s 7ms/step - loss: 1.3425 - accuracy: 0.3403 - val_loss: 1.3501 - val_accuracy: 0.3594\n",
            "Epoch 22/50\n",
            "116/116 [==============================] - 1s 7ms/step - loss: 1.3373 - accuracy: 0.3490 - val_loss: 1.3382 - val_accuracy: 0.3438\n",
            "Epoch 23/50\n",
            "116/116 [==============================] - 1s 7ms/step - loss: 1.3320 - accuracy: 0.3472 - val_loss: 1.3430 - val_accuracy: 0.2969\n",
            "Epoch 24/50\n",
            "116/116 [==============================] - 1s 7ms/step - loss: 1.3402 - accuracy: 0.3160 - val_loss: 1.3278 - val_accuracy: 0.2969\n",
            "Epoch 25/50\n",
            "116/116 [==============================] - 1s 7ms/step - loss: 1.3258 - accuracy: 0.3385 - val_loss: 1.3389 - val_accuracy: 0.2656\n",
            "Epoch 26/50\n",
            "116/116 [==============================] - 1s 7ms/step - loss: 1.3247 - accuracy: 0.3576 - val_loss: 1.3362 - val_accuracy: 0.3281\n",
            "Epoch 27/50\n",
            "116/116 [==============================] - 1s 7ms/step - loss: 1.3074 - accuracy: 0.3663 - val_loss: 1.3255 - val_accuracy: 0.3438\n",
            "Epoch 28/50\n",
            "116/116 [==============================] - 1s 7ms/step - loss: 1.3085 - accuracy: 0.3785 - val_loss: 1.3226 - val_accuracy: 0.3125\n",
            "Epoch 29/50\n",
            "116/116 [==============================] - 1s 7ms/step - loss: 1.3136 - accuracy: 0.3906 - val_loss: 1.3324 - val_accuracy: 0.3125\n",
            "Epoch 30/50\n",
            "116/116 [==============================] - 1s 7ms/step - loss: 1.3064 - accuracy: 0.3698 - val_loss: 1.3420 - val_accuracy: 0.2969\n",
            "Epoch 31/50\n",
            "116/116 [==============================] - 1s 7ms/step - loss: 1.3066 - accuracy: 0.3611 - val_loss: 1.3283 - val_accuracy: 0.2969\n",
            "Epoch 32/50\n",
            "116/116 [==============================] - 1s 7ms/step - loss: 1.2870 - accuracy: 0.3767 - val_loss: 1.3312 - val_accuracy: 0.2969\n",
            "Epoch 33/50\n",
            "116/116 [==============================] - 1s 7ms/step - loss: 1.2786 - accuracy: 0.4062 - val_loss: 1.3444 - val_accuracy: 0.3281\n",
            "Epoch 34/50\n",
            "116/116 [==============================] - 1s 7ms/step - loss: 1.2557 - accuracy: 0.4045 - val_loss: 1.3342 - val_accuracy: 0.3125\n",
            "Epoch 35/50\n",
            "116/116 [==============================] - 1s 7ms/step - loss: 1.2584 - accuracy: 0.4236 - val_loss: 1.3283 - val_accuracy: 0.3125\n",
            "Epoch 36/50\n",
            "116/116 [==============================] - 1s 7ms/step - loss: 1.2747 - accuracy: 0.3872 - val_loss: 1.3220 - val_accuracy: 0.3750\n",
            "Epoch 37/50\n",
            "116/116 [==============================] - 1s 7ms/step - loss: 1.2545 - accuracy: 0.4219 - val_loss: 1.3119 - val_accuracy: 0.3750\n",
            "Epoch 38/50\n",
            "116/116 [==============================] - 1s 7ms/step - loss: 1.2817 - accuracy: 0.3420 - val_loss: 1.3306 - val_accuracy: 0.3438\n",
            "Epoch 39/50\n",
            "116/116 [==============================] - 1s 7ms/step - loss: 1.2449 - accuracy: 0.4375 - val_loss: 1.3146 - val_accuracy: 0.3750\n",
            "Epoch 40/50\n",
            "116/116 [==============================] - 1s 7ms/step - loss: 1.2366 - accuracy: 0.4028 - val_loss: 1.3057 - val_accuracy: 0.3594\n",
            "Epoch 41/50\n",
            "116/116 [==============================] - 1s 7ms/step - loss: 1.2482 - accuracy: 0.4028 - val_loss: 1.3226 - val_accuracy: 0.3594\n",
            "Epoch 42/50\n",
            "116/116 [==============================] - 1s 7ms/step - loss: 1.2278 - accuracy: 0.4132 - val_loss: 1.3371 - val_accuracy: 0.3281\n",
            "Epoch 43/50\n",
            "116/116 [==============================] - 1s 7ms/step - loss: 1.2279 - accuracy: 0.4253 - val_loss: 1.3331 - val_accuracy: 0.3594\n",
            "Epoch 44/50\n",
            "116/116 [==============================] - 1s 7ms/step - loss: 1.1934 - accuracy: 0.4462 - val_loss: 1.3443 - val_accuracy: 0.3594\n",
            "Epoch 45/50\n",
            "116/116 [==============================] - 1s 7ms/step - loss: 1.2090 - accuracy: 0.4427 - val_loss: 1.3507 - val_accuracy: 0.3438\n",
            "Epoch 46/50\n",
            "116/116 [==============================] - 1s 7ms/step - loss: 1.2121 - accuracy: 0.4219 - val_loss: 1.3245 - val_accuracy: 0.3750\n",
            "Epoch 47/50\n",
            "116/116 [==============================] - 1s 7ms/step - loss: 1.1766 - accuracy: 0.4601 - val_loss: 1.3542 - val_accuracy: 0.3125\n",
            "Epoch 48/50\n",
            "116/116 [==============================] - 1s 8ms/step - loss: 1.1677 - accuracy: 0.4948 - val_loss: 1.3522 - val_accuracy: 0.3438\n",
            "Epoch 49/50\n",
            "116/116 [==============================] - 1s 7ms/step - loss: 1.1721 - accuracy: 0.4566 - val_loss: 1.3492 - val_accuracy: 0.3594\n",
            "Epoch 50/50\n",
            "116/116 [==============================] - 1s 7ms/step - loss: 1.1631 - accuracy: 0.4688 - val_loss: 1.3349 - val_accuracy: 0.3438\n"
          ]
        }
      ]
    },
    {
      "cell_type": "code",
      "source": [
        "acc = history.history['accuracy']\n",
        "val_acc = history.history['val_accuracy']\n",
        "loss = history.history['loss']\n",
        "val_loss = history.history['val_loss']\n",
        "\n",
        "epochs = range(len(acc))\n",
        "\n",
        "plt.plot(epochs, acc, 'r', label='Training accuracy')\n",
        "plt.plot(epochs, val_acc, 'b', label='Validation accuracy')\n",
        "plt.title('Training and validation accuracy')\n",
        "plt.legend()\n",
        "plt.figure()\n",
        "\n",
        "plt.plot(epochs, loss, 'r', label='Training Loss')\n",
        "plt.plot(epochs, val_loss, 'b', label='Validation Loss')\n",
        "plt.title('Training and validation loss')\n",
        "plt.legend()\n",
        "\n",
        "plt.show()"
      ],
      "metadata": {
        "id": "xgqin2bTxUnJ",
        "colab": {
          "base_uri": "https://localhost:8080/",
          "height": 545
        },
        "outputId": "7b36cd7c-0261-4f85-8ec3-fcb20bc2c69c"
      },
      "execution_count": 110,
      "outputs": [
        {
          "output_type": "display_data",
          "data": {
            "text/plain": [
              "<Figure size 432x288 with 1 Axes>"
            ],
            "image/png": "[encoded data removed]"
          },
          "metadata": {
            "needs_background": "light"
          }
        },
        {
          "output_type": "display_data",
          "data": {
            "text/plain": [
              "<Figure size 432x288 with 1 Axes>"
            ],
            "image/png": "[encoded data removed]"
          },
          "metadata": {
            "needs_background": "light"
          }
        }
      ]
    }
  ]
}