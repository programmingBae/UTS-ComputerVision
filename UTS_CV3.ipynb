{
  "nbformat": 4,
  "nbformat_minor": 0,
  "metadata": {
    "colab": {
      "provenance": [],
      "collapsed_sections": [],
      "include_colab_link": true
    },
    "kernelspec": {
      "name": "python3",
      "display_name": "Python 3"
    },
    "language_info": {
      "name": "python"
    },
    "accelerator": "GPU",
    "gpuClass": "standard"
  },
  "cells": [
    {
      "cell_type": "markdown",
      "metadata": {
        "id": "view-in-github",
        "colab_type": "text"
      },
      "source": [
        "<a href=\"https://colab.research.google.com/github/programmingBae/UTS-ComputerVision/blob/main/UTS_CV3.ipynb\" target=\"_parent\"><img src=\"https://colab.research.google.com/assets/colab-badge.svg\" alt=\"Open In Colab\"/></a>"
      ]
    },
    {
      "cell_type": "markdown",
      "source": [
        "# Load the Data"
      ],
      "metadata": {
        "id": "bTmug0rOOE14"
      }
    },
    {
      "cell_type": "code",
      "execution_count": 1,
      "metadata": {
        "id": "oklgLxvUm6V-"
      },
      "outputs": [],
      "source": [
        "file_name = \"sample_data/train_data.zip\""
      ]
    },
    {
      "cell_type": "code",
      "source": [
        "import zipfile\n",
        "#import dependencies\n",
        "import keras\n",
        "from keras.models import Sequential\n",
        "from keras.utils import np_utils\n",
        "from keras.preprocessing.image import ImageDataGenerator\n",
        "from keras.layers import Dense, Activation, Flatten, Dropout, BatchNormalization\n",
        "from keras.layers import Conv2D, MaxPooling2D\n",
        "from keras.datasets import cifar10\n",
        "from keras import regularizers, optimizers\n",
        "import numpy as np\n",
        "from matplotlib import pyplot as plt"
      ],
      "metadata": {
        "id": "DaiOFl6ToAfm"
      },
      "execution_count": 2,
      "outputs": []
    },
    {
      "cell_type": "code",
      "source": [
        "with zipfile.ZipFile(file_name, \"r\") as zip:\n",
        "  zip.extractall()\n",
        "  print(\"Extract Done\")"
      ],
      "metadata": {
        "colab": {
          "base_uri": "https://localhost:8080/"
        },
        "id": "lPoaWU61oBQZ",
        "outputId": "218f328b-81ba-44de-a00f-191742f63e69"
      },
      "execution_count": 3,
      "outputs": [
        {
          "output_type": "stream",
          "name": "stdout",
          "text": [
            "Extract Done\n"
          ]
        }
      ]
    },
    {
      "cell_type": "markdown",
      "source": [
        " ## Use ImageData Generator to split the dataset into train&validation set. Also to normalize the data"
      ],
      "metadata": {
        "id": "xyRBOx5vOHFj"
      }
    },
    {
      "cell_type": "code",
      "source": [
        "from keras.preprocessing.image import ImageDataGenerator\n",
        "train_datagen = ImageDataGenerator(\n",
        "    rescale=1. / 255,\n",
        "    # width_shift_range=0.2,\n",
        "    # height_shift_range=0.2,\n",
        "    # shear_range=0.2,\n",
        "    validation_split=0.1\n",
        "    )"
      ],
      "metadata": {
        "id": "kzB_7StEoLb3"
      },
      "execution_count": 161,
      "outputs": []
    },
    {
      "cell_type": "code",
      "source": [
        "train_generator = train_datagen.flow_from_directory('train_data/train/', \n",
        "                                                    class_mode ='categorical', \n",
        "                                                    batch_size=5, target_size=(28, 28), \n",
        "                                                    color_mode =\"grayscale\", subset=\"training\") \n",
        "train_generator.class_indices\n",
        "validation_generator = train_datagen.flow_from_directory('train_data/train/', \n",
        "                                                         class_mode ='categorical', \n",
        "                                                         batch_size=5, target_size=(28, 28), \n",
        "                                                         color_mode =\"grayscale\", subset=\"validation\") \n",
        "\n"
      ],
      "metadata": {
        "colab": {
          "base_uri": "https://localhost:8080/"
        },
        "id": "lbyJJ9CJoLGd",
        "outputId": "f7939e3c-cc42-4a7a-c3a5-daa1890521e7"
      },
      "execution_count": 162,
      "outputs": [
        {
          "output_type": "stream",
          "name": "stdout",
          "text": [
            "Found 576 images belonging to 4 classes.\n",
            "Found 64 images belonging to 4 classes.\n"
          ]
        }
      ]
    },
    {
      "cell_type": "markdown",
      "source": [
        "# Design the model"
      ],
      "metadata": {
        "id": "yh1-Ejd6OT8x"
      }
    },
    {
      "cell_type": "code",
      "source": [
        "import tensorflow as tf\n",
        "model = tf.keras.models.Sequential([\n",
        "    # This is the first convolution\n",
        "    tf.keras.layers.Conv2D(8, (3,3), activation='relu', input_shape=(28,28, 1)),\n",
        "    tf.keras.layers.Conv2D(8, (3,3), activation='relu'),\n",
        "    tf.keras.layers.MaxPooling2D(2,2),\n",
        "    tf.keras.layers.Dropout(0.1),\n",
        "    # The second convolution\n",
        "    tf.keras.layers.Conv2D(16, (3,3), activation='relu'),\n",
        "    tf.keras.layers.Conv2D(16, (3,3), activation='relu'),\n",
        "     \n",
        "    tf.keras.layers.MaxPooling2D(2,2),\n",
        "    tf.keras.layers.Dropout(0.1),\n",
        "    \n",
        "    # Flatten the results to feed into a DNN\n",
        "    tf.keras.layers.Flatten(),\n",
        "    tf.keras.layers.Dense(32, activation='relu'),\n",
        "    tf.keras.layers.Dropout(0.1),\n",
        "    tf.keras.layers.Dense(4, activation='softmax')\n",
        "    ])"
      ],
      "metadata": {
        "id": "Q_kYdmBIc24c"
      },
      "execution_count": 214,
      "outputs": []
    },
    {
      "cell_type": "markdown",
      "source": [
        "# Compile the model"
      ],
      "metadata": {
        "id": "okFIYUVgOXDz"
      }
    },
    {
      "cell_type": "code",
      "source": [
        "model.compile(optimizer = \"adam\",\n",
        "                loss = \"categorical_crossentropy\",\n",
        "                metrics=[\"accuracy\"])"
      ],
      "metadata": {
        "id": "pyIgKEU5uDJ9"
      },
      "execution_count": 215,
      "outputs": []
    },
    {
      "cell_type": "code",
      "source": [
        "callback = tf.keras.callbacks.EarlyStopping(monitor='accuracy', patience=10)"
      ],
      "metadata": {
        "id": "QpH8LIjYmG9e"
      },
      "execution_count": 204,
      "outputs": []
    },
    {
      "cell_type": "markdown",
      "source": [
        "# Train"
      ],
      "metadata": {
        "id": "Sx47suV8OY_-"
      }
    },
    {
      "cell_type": "code",
      "source": [
        "# Train your model\n",
        "history = model.fit(train_generator,\n",
        "                    epochs=50,\n",
        "                    validation_data=validation_generator,\n",
        "                    callbacks=[callback])\n"
      ],
      "metadata": {
        "colab": {
          "base_uri": "https://localhost:8080/"
        },
        "id": "yX24ZIHSt4Ow",
        "outputId": "c77fb99b-ea95-43c6-ed52-6eeca5e5d83e"
      },
      "execution_count": 216,
      "outputs": [
        {
          "output_type": "stream",
          "name": "stdout",
          "text": [
            "Epoch 1/50\n",
            "116/116 [==============================] - 2s 9ms/step - loss: 1.3887 - accuracy: 0.2500 - val_loss: 1.3846 - val_accuracy: 0.2656\n",
            "Epoch 2/50\n",
            "116/116 [==============================] - 1s 7ms/step - loss: 1.3879 - accuracy: 0.2535 - val_loss: 1.3858 - val_accuracy: 0.2500\n",
            "Epoch 3/50\n",
            "116/116 [==============================] - 1s 7ms/step - loss: 1.3872 - accuracy: 0.2240 - val_loss: 1.3852 - val_accuracy: 0.3438\n",
            "Epoch 4/50\n",
            "116/116 [==============================] - 1s 7ms/step - loss: 1.3870 - accuracy: 0.2517 - val_loss: 1.3852 - val_accuracy: 0.3125\n",
            "Epoch 5/50\n",
            "116/116 [==============================] - 1s 7ms/step - loss: 1.3868 - accuracy: 0.2326 - val_loss: 1.3844 - val_accuracy: 0.3125\n",
            "Epoch 6/50\n",
            "116/116 [==============================] - 1s 7ms/step - loss: 1.3857 - accuracy: 0.2691 - val_loss: 1.3831 - val_accuracy: 0.2344\n",
            "Epoch 7/50\n",
            "116/116 [==============================] - 1s 7ms/step - loss: 1.3859 - accuracy: 0.2726 - val_loss: 1.3822 - val_accuracy: 0.3438\n",
            "Epoch 8/50\n",
            "116/116 [==============================] - 1s 7ms/step - loss: 1.3849 - accuracy: 0.2795 - val_loss: 1.3798 - val_accuracy: 0.2656\n",
            "Epoch 9/50\n",
            "116/116 [==============================] - 1s 7ms/step - loss: 1.3854 - accuracy: 0.2882 - val_loss: 1.3811 - val_accuracy: 0.2656\n",
            "Epoch 10/50\n",
            "116/116 [==============================] - 1s 7ms/step - loss: 1.3845 - accuracy: 0.2899 - val_loss: 1.3788 - val_accuracy: 0.3438\n",
            "Epoch 11/50\n",
            "116/116 [==============================] - 1s 7ms/step - loss: 1.3712 - accuracy: 0.3212 - val_loss: 1.3719 - val_accuracy: 0.3125\n",
            "Epoch 12/50\n",
            "116/116 [==============================] - 1s 7ms/step - loss: 1.3825 - accuracy: 0.2899 - val_loss: 1.3721 - val_accuracy: 0.2969\n",
            "Epoch 13/50\n",
            "116/116 [==============================] - 1s 7ms/step - loss: 1.3621 - accuracy: 0.3125 - val_loss: 1.3686 - val_accuracy: 0.2969\n",
            "Epoch 14/50\n",
            "116/116 [==============================] - 1s 7ms/step - loss: 1.3472 - accuracy: 0.3420 - val_loss: 1.3531 - val_accuracy: 0.3281\n",
            "Epoch 15/50\n",
            "116/116 [==============================] - 1s 7ms/step - loss: 1.3454 - accuracy: 0.3368 - val_loss: 1.3537 - val_accuracy: 0.3281\n",
            "Epoch 16/50\n",
            "116/116 [==============================] - 1s 7ms/step - loss: 1.3417 - accuracy: 0.3490 - val_loss: 1.3508 - val_accuracy: 0.3438\n",
            "Epoch 17/50\n",
            "116/116 [==============================] - 1s 7ms/step - loss: 1.3129 - accuracy: 0.3819 - val_loss: 1.3468 - val_accuracy: 0.4219\n",
            "Epoch 18/50\n",
            "116/116 [==============================] - 1s 7ms/step - loss: 1.3112 - accuracy: 0.3472 - val_loss: 1.3412 - val_accuracy: 0.3281\n",
            "Epoch 19/50\n",
            "116/116 [==============================] - 1s 7ms/step - loss: 1.2784 - accuracy: 0.4149 - val_loss: 1.3526 - val_accuracy: 0.3125\n",
            "Epoch 20/50\n",
            "116/116 [==============================] - 1s 7ms/step - loss: 1.2817 - accuracy: 0.3872 - val_loss: 1.3265 - val_accuracy: 0.3750\n",
            "Epoch 21/50\n",
            "116/116 [==============================] - 1s 7ms/step - loss: 1.2664 - accuracy: 0.4062 - val_loss: 1.3423 - val_accuracy: 0.3438\n",
            "Epoch 22/50\n",
            "116/116 [==============================] - 1s 7ms/step - loss: 1.2430 - accuracy: 0.3976 - val_loss: 1.3517 - val_accuracy: 0.3438\n",
            "Epoch 23/50\n",
            "116/116 [==============================] - 1s 7ms/step - loss: 1.2278 - accuracy: 0.4288 - val_loss: 1.3094 - val_accuracy: 0.3750\n",
            "Epoch 24/50\n",
            "116/116 [==============================] - 1s 7ms/step - loss: 1.1977 - accuracy: 0.4653 - val_loss: 1.3148 - val_accuracy: 0.4219\n",
            "Epoch 25/50\n",
            "116/116 [==============================] - 1s 7ms/step - loss: 1.1890 - accuracy: 0.4427 - val_loss: 1.3106 - val_accuracy: 0.3438\n",
            "Epoch 26/50\n",
            "116/116 [==============================] - 1s 7ms/step - loss: 1.1526 - accuracy: 0.4722 - val_loss: 1.2992 - val_accuracy: 0.3594\n",
            "Epoch 27/50\n",
            "116/116 [==============================] - 1s 7ms/step - loss: 1.0988 - accuracy: 0.5052 - val_loss: 1.3194 - val_accuracy: 0.4062\n",
            "Epoch 28/50\n",
            "116/116 [==============================] - 1s 7ms/step - loss: 1.0875 - accuracy: 0.4913 - val_loss: 1.2838 - val_accuracy: 0.4062\n",
            "Epoch 29/50\n",
            "116/116 [==============================] - 1s 7ms/step - loss: 1.0403 - accuracy: 0.5208 - val_loss: 1.3355 - val_accuracy: 0.4688\n",
            "Epoch 30/50\n",
            "116/116 [==============================] - 1s 7ms/step - loss: 1.0230 - accuracy: 0.5330 - val_loss: 1.3737 - val_accuracy: 0.3750\n",
            "Epoch 31/50\n",
            "116/116 [==============================] - 1s 7ms/step - loss: 1.0190 - accuracy: 0.5208 - val_loss: 1.3334 - val_accuracy: 0.3906\n",
            "Epoch 32/50\n",
            "116/116 [==============================] - 1s 7ms/step - loss: 0.9716 - accuracy: 0.5851 - val_loss: 1.3711 - val_accuracy: 0.4062\n",
            "Epoch 33/50\n",
            "116/116 [==============================] - 1s 7ms/step - loss: 0.9518 - accuracy: 0.5920 - val_loss: 1.2889 - val_accuracy: 0.4688\n",
            "Epoch 34/50\n",
            "116/116 [==============================] - 1s 8ms/step - loss: 0.9117 - accuracy: 0.6076 - val_loss: 1.2887 - val_accuracy: 0.4219\n",
            "Epoch 35/50\n",
            "116/116 [==============================] - 1s 7ms/step - loss: 0.9122 - accuracy: 0.6389 - val_loss: 1.2946 - val_accuracy: 0.5000\n",
            "Epoch 36/50\n",
            "116/116 [==============================] - 1s 7ms/step - loss: 0.9249 - accuracy: 0.5920 - val_loss: 1.3252 - val_accuracy: 0.4375\n",
            "Epoch 37/50\n",
            "116/116 [==============================] - 1s 7ms/step - loss: 0.8358 - accuracy: 0.6458 - val_loss: 1.3432 - val_accuracy: 0.4375\n",
            "Epoch 38/50\n",
            "116/116 [==============================] - 1s 8ms/step - loss: 0.8138 - accuracy: 0.6632 - val_loss: 1.3279 - val_accuracy: 0.4219\n",
            "Epoch 39/50\n",
            "116/116 [==============================] - 1s 7ms/step - loss: 0.8587 - accuracy: 0.6337 - val_loss: 1.2421 - val_accuracy: 0.4531\n",
            "Epoch 40/50\n",
            "116/116 [==============================] - 1s 7ms/step - loss: 0.8432 - accuracy: 0.6510 - val_loss: 1.2826 - val_accuracy: 0.5312\n",
            "Epoch 41/50\n",
            "116/116 [==============================] - 1s 7ms/step - loss: 0.7371 - accuracy: 0.6823 - val_loss: 1.3368 - val_accuracy: 0.4375\n",
            "Epoch 42/50\n",
            "116/116 [==============================] - 1s 7ms/step - loss: 0.7682 - accuracy: 0.6927 - val_loss: 1.3111 - val_accuracy: 0.4531\n",
            "Epoch 43/50\n",
            "116/116 [==============================] - 1s 8ms/step - loss: 0.7479 - accuracy: 0.6771 - val_loss: 1.5000 - val_accuracy: 0.4219\n",
            "Epoch 44/50\n",
            "116/116 [==============================] - 1s 7ms/step - loss: 0.7467 - accuracy: 0.7101 - val_loss: 1.3269 - val_accuracy: 0.4688\n",
            "Epoch 45/50\n",
            "116/116 [==============================] - 1s 7ms/step - loss: 0.6846 - accuracy: 0.7361 - val_loss: 1.4235 - val_accuracy: 0.4219\n",
            "Epoch 46/50\n",
            "116/116 [==============================] - 1s 7ms/step - loss: 0.6802 - accuracy: 0.7309 - val_loss: 1.4547 - val_accuracy: 0.4062\n",
            "Epoch 47/50\n",
            "116/116 [==============================] - 1s 7ms/step - loss: 0.6650 - accuracy: 0.7622 - val_loss: 1.6849 - val_accuracy: 0.4375\n",
            "Epoch 48/50\n",
            "116/116 [==============================] - 1s 7ms/step - loss: 0.6381 - accuracy: 0.7292 - val_loss: 1.4496 - val_accuracy: 0.4688\n",
            "Epoch 49/50\n",
            "116/116 [==============================] - 1s 7ms/step - loss: 0.6104 - accuracy: 0.7760 - val_loss: 1.5052 - val_accuracy: 0.4375\n",
            "Epoch 50/50\n",
            "116/116 [==============================] - 1s 7ms/step - loss: 0.6363 - accuracy: 0.7431 - val_loss: 1.4988 - val_accuracy: 0.4219\n"
          ]
        }
      ]
    },
    {
      "cell_type": "markdown",
      "source": [
        "# Evaluate"
      ],
      "metadata": {
        "id": "GX5SkuSGOa_e"
      }
    },
    {
      "cell_type": "code",
      "source": [
        "train_acc = history.model.evaluate(train_generator)\n",
        "val_acc = history.model.evaluate(validation_generator)"
      ],
      "metadata": {
        "colab": {
          "base_uri": "https://localhost:8080/"
        },
        "id": "e46nZ_56P2jX",
        "outputId": "83ef3fdb-10b7-4cbf-eb58-25289246e3c1"
      },
      "execution_count": 217,
      "outputs": [
        {
          "output_type": "stream",
          "name": "stdout",
          "text": [
            "116/116 [==============================] - 1s 6ms/step - loss: 0.3645 - accuracy: 0.9115\n",
            "13/13 [==============================] - 0s 6ms/step - loss: 1.4988 - accuracy: 0.4219\n"
          ]
        }
      ]
    },
    {
      "cell_type": "code",
      "source": [
        "acc = history.history['accuracy']\n",
        "val_acc = history.history['val_accuracy']\n",
        "loss = history.history['loss']\n",
        "val_loss = history.history['val_loss']\n",
        "\n",
        "epochs = range(len(acc))\n",
        "\n",
        "plt.plot(epochs, acc, 'r', label='Training accuracy')\n",
        "plt.plot(epochs, val_acc, 'b', label='Validation accuracy')\n",
        "plt.title('Training and validation accuracy')\n",
        "plt.legend()\n",
        "plt.figure()\n",
        "\n",
        "plt.plot(epochs, loss, 'r', label='Training Loss')\n",
        "plt.plot(epochs, val_loss, 'b', label='Validation Loss')\n",
        "plt.title('Training and validation loss')\n",
        "plt.legend()\n",
        "\n",
        "plt.show()"
      ],
      "metadata": {
        "id": "xgqin2bTxUnJ",
        "colab": {
          "base_uri": "https://localhost:8080/",
          "height": 545
        },
        "outputId": "1a347df2-277d-457d-db95-ce00c2edaadc"
      },
      "execution_count": 218,
      "outputs": [
        {
          "output_type": "display_data",
          "data": {
            "text/plain": [
              "<Figure size 432x288 with 1 Axes>"
            ],
            "image/png": "[encoded data removed]"
          },
          "metadata": {
            "needs_background": "light"
          }
        },
        {
          "output_type": "display_data",
          "data": {
            "text/plain": [
              "<Figure size 432x288 with 1 Axes>"
            ],
            "image/png": "[encoded data removed]"
          },
          "metadata": {
            "needs_background": "light"
          }
        }
      ]
    }
  ]
}